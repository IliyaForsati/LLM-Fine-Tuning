{
 "cells": [
  {
   "cell_type": "markdown",
   "id": "5fb8822a",
   "metadata": {},
   "source": [
    "### 0. install requirements"
   ]
  },
  {
   "cell_type": "code",
   "execution_count": null,
   "id": "4be1a04c",
   "metadata": {},
   "outputs": [],
   "source": [
    "%pip install -r requirements.txt"
   ]
  },
  {
   "cell_type": "markdown",
   "id": "439a4a8d",
   "metadata": {},
   "source": [
    "### 1. Testing Model *GPT2*\n",
    "\n",
    "Use model with ***pipeline*** as a high-level helper.  \n",
    "you can see the model detaile [here](https://huggingface.co/openai-community/gpt2)."
   ]
  },
  {
   "cell_type": "code",
   "execution_count": 6,
   "id": "534e5493",
   "metadata": {},
   "outputs": [
    {
     "name": "stderr",
     "output_type": "stream",
     "text": [
      "Device set to use cpu\n",
      "Setting `pad_token_id` to `eos_token_id`:50256 for open-end generation.\n"
     ]
    },
    {
     "data": {
      "text/plain": [
       "[{'generated_text': 'hello. how can you help me? where can I get more information about this project? How can you contact me?\\n\\nPlease contact me with any questions.\\n\\nAlso, please'}]"
      ]
     },
     "execution_count": 6,
     "metadata": {},
     "output_type": "execute_result"
    }
   ],
   "source": [
    "from transformers import pipeline\n",
    "\n",
    "pipe = pipeline(\"text-generation\", model=\"openai-community/gpt2\")\n",
    "\n",
    "pipe(\"hello. how can you help me?\", max_new_tokens=30)"
   ]
  }
 ],
 "metadata": {
  "kernelspec": {
   "display_name": "Python 3",
   "language": "python",
   "name": "python3"
  },
  "language_info": {
   "codemirror_mode": {
    "name": "ipython",
    "version": 3
   },
   "file_extension": ".py",
   "mimetype": "text/x-python",
   "name": "python",
   "nbconvert_exporter": "python",
   "pygments_lexer": "ipython3",
   "version": "3.13.3"
  }
 },
 "nbformat": 4,
 "nbformat_minor": 5
}
