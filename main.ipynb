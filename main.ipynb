{
 "cells": [
  {
   "cell_type": "markdown",
   "id": "5fb8822a",
   "metadata": {},
   "source": [
    "### 0. install requirements"
   ]
  },
  {
   "cell_type": "code",
   "execution_count": null,
   "id": "4be1a04c",
   "metadata": {},
   "outputs": [],
   "source": [
    "%pip install -r requirements.txt"
   ]
  },
  {
   "cell_type": "markdown",
   "id": "439a4a8d",
   "metadata": {},
   "source": [
    "### 1. Testing Model *GPT2*\n",
    "\n",
    "Use model with ***pipeline*** as a high-level helper.  \n",
    "you can see the model detaile [here](https://huggingface.co/openai-community/gpt2)."
   ]
  },
  {
   "cell_type": "code",
   "execution_count": 15,
   "id": "534e5493",
   "metadata": {},
   "outputs": [
    {
     "name": "stderr",
     "output_type": "stream",
     "text": [
      "Device set to use cpu\n",
      "Truncation was not explicitly activated but `max_length` is provided a specific value, please use `truncation=True` to explicitly truncate examples to max length. Defaulting to 'longest_first' truncation strategy. If you encode pairs of sequences (GLUE-style) with the tokenizer you can select this strategy more precisely by providing a specific strategy to `truncation`.\n",
      "Setting `pad_token_id` to `eos_token_id`:50256 for open-end generation.\n",
      "Both `max_new_tokens` (=10) and `max_length`(=30) seem to have been set. `max_new_tokens` will take precedence. Please refer to the documentation for more information. (https://huggingface.co/docs/transformers/main/en/main_classes/text_generation)\n"
     ]
    },
    {
     "data": {
      "text/plain": [
       "[{'generated_text': 'US is a country in ʻal-Arabia, the region with'}]"
      ]
     },
     "execution_count": 15,
     "metadata": {},
     "output_type": "execute_result"
    }
   ],
   "source": [
    "from transformers import pipeline\n",
    "\n",
    "pipe = pipeline(\"text-generation\", model=\"openai-community/gpt2\")\n",
    "\n",
    "pipe(\"US is a country in \", max_length=30, num_return_sequences=1, max_new_tokens=10)"
   ]
  },
  {
   "cell_type": "markdown",
   "id": "d6a6199d",
   "metadata": {},
   "source": [
    "the answers are false. for example:\n",
    "US is a country in ʻal-Arabia, the region with"
   ]
  }
 ],
 "metadata": {
  "kernelspec": {
   "display_name": "Python 3",
   "language": "python",
   "name": "python3"
  },
  "language_info": {
   "codemirror_mode": {
    "name": "ipython",
    "version": 3
   },
   "file_extension": ".py",
   "mimetype": "text/x-python",
   "name": "python",
   "nbconvert_exporter": "python",
   "pygments_lexer": "ipython3",
   "version": "3.13.3"
  }
 },
 "nbformat": 4,
 "nbformat_minor": 5
}
